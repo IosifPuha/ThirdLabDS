{
 "cells": [
  {
   "cell_type": "code",
   "execution_count": 1,
   "metadata": {
    "id": "DG6_rz0Y_1Tx",
    "tags": []
   },
   "outputs": [],
   "source": [
    "import pandas as pd \n",
    "import matplotlib.pyplot as plt \n",
    "import numpy as np\n",
    "import scipy.stats as stats"
   ]
  },
  {
   "cell_type": "markdown",
   "metadata": {
    "id": "QYXUP9A4_cUe"
   },
   "source": [
    "**Test statisici**\n",
    "\n",
    "Utilizziamo la tabella integrate_titles che abbiamo prodotto durante il primo laboratorio. Vi ricordo che abbiamo effettuato integrazione di due dataset provenienti da Disney+ e Netflix, contenenti informazioni circa film e serie tv rilasciate sulle due piattaforme di streaming. \n",
    "Il dataset integrato è stato pulito e risulta quindi pronto per ulteriori analisi. \n",
    "\n",
    "1. Importiamo il dataset:"
   ]
  },
  {
   "cell_type": "code",
   "execution_count": 2,
   "metadata": {
    "id": "PnExuBeH_YAz",
    "tags": []
   },
   "outputs": [],
   "source": [
    "integrate_titles = pd.read_csv(\"integrate_titles_3.csv\")"
   ]
  },
  {
   "cell_type": "markdown",
   "metadata": {
    "id": "u-nCzS4SVRf3"
   },
   "source": [
    "visualizziamo il dataset"
   ]
  },
  {
   "cell_type": "code",
   "execution_count": 3,
   "metadata": {
    "id": "JNVIvuWdVS1Y"
   },
   "outputs": [
    {
     "data": {
      "text/html": [
       "<div>\n",
       "<style scoped>\n",
       "    .dataframe tbody tr th:only-of-type {\n",
       "        vertical-align: middle;\n",
       "    }\n",
       "\n",
       "    .dataframe tbody tr th {\n",
       "        vertical-align: top;\n",
       "    }\n",
       "\n",
       "    .dataframe thead th {\n",
       "        text-align: right;\n",
       "    }\n",
       "</style>\n",
       "<table border=\"1\" class=\"dataframe\">\n",
       "  <thead>\n",
       "    <tr style=\"text-align: right;\">\n",
       "      <th></th>\n",
       "      <th>Unnamed: 0.2</th>\n",
       "      <th>Unnamed: 0.1</th>\n",
       "      <th>Unnamed: 0</th>\n",
       "      <th>id</th>\n",
       "      <th>title</th>\n",
       "      <th>type</th>\n",
       "      <th>release_year</th>\n",
       "      <th>age_certification</th>\n",
       "      <th>runtime</th>\n",
       "      <th>genres</th>\n",
       "      <th>...</th>\n",
       "      <th>director</th>\n",
       "      <th>country</th>\n",
       "      <th>date_added</th>\n",
       "      <th>rating</th>\n",
       "      <th>duration</th>\n",
       "      <th>year</th>\n",
       "      <th>month</th>\n",
       "      <th>day</th>\n",
       "      <th>imdb_score_quant</th>\n",
       "      <th>release_year_quant</th>\n",
       "    </tr>\n",
       "  </thead>\n",
       "  <tbody>\n",
       "    <tr>\n",
       "      <th>0</th>\n",
       "      <td>1</td>\n",
       "      <td>1</td>\n",
       "      <td>1</td>\n",
       "      <td>tm82169</td>\n",
       "      <td>Rocky</td>\n",
       "      <td>MOVIE</td>\n",
       "      <td>1976</td>\n",
       "      <td>PG</td>\n",
       "      <td>119</td>\n",
       "      <td>['drama', 'sport']</td>\n",
       "      <td>...</td>\n",
       "      <td>John G. Avildsen</td>\n",
       "      <td>United States</td>\n",
       "      <td>2019-08-01</td>\n",
       "      <td>PG</td>\n",
       "      <td>120 min</td>\n",
       "      <td>2019.0</td>\n",
       "      <td>8.0</td>\n",
       "      <td>1.0</td>\n",
       "      <td>EXCELLENT</td>\n",
       "      <td>VERY OLD</td>\n",
       "    </tr>\n",
       "    <tr>\n",
       "      <th>1</th>\n",
       "      <td>2</td>\n",
       "      <td>2</td>\n",
       "      <td>2</td>\n",
       "      <td>tm17823</td>\n",
       "      <td>Grease</td>\n",
       "      <td>MOVIE</td>\n",
       "      <td>1978</td>\n",
       "      <td>PG</td>\n",
       "      <td>110</td>\n",
       "      <td>['comedy', 'romance']</td>\n",
       "      <td>...</td>\n",
       "      <td>Randal Kleiser</td>\n",
       "      <td>United States</td>\n",
       "      <td>2019-11-01</td>\n",
       "      <td>PG</td>\n",
       "      <td>110 min</td>\n",
       "      <td>2019.0</td>\n",
       "      <td>11.0</td>\n",
       "      <td>1.0</td>\n",
       "      <td>VERY GOOD</td>\n",
       "      <td>VERY OLD</td>\n",
       "    </tr>\n",
       "    <tr>\n",
       "      <th>2</th>\n",
       "      <td>3</td>\n",
       "      <td>3</td>\n",
       "      <td>3</td>\n",
       "      <td>tm69975</td>\n",
       "      <td>Rocky II</td>\n",
       "      <td>MOVIE</td>\n",
       "      <td>1979</td>\n",
       "      <td>PG</td>\n",
       "      <td>119</td>\n",
       "      <td>['drama', 'sport']</td>\n",
       "      <td>...</td>\n",
       "      <td>Sylvester Stallone</td>\n",
       "      <td>United States</td>\n",
       "      <td>2019-08-01</td>\n",
       "      <td>PG</td>\n",
       "      <td>119 min</td>\n",
       "      <td>2019.0</td>\n",
       "      <td>8.0</td>\n",
       "      <td>1.0</td>\n",
       "      <td>VERY GOOD</td>\n",
       "      <td>VERY OLD</td>\n",
       "    </tr>\n",
       "    <tr>\n",
       "      <th>3</th>\n",
       "      <td>4</td>\n",
       "      <td>4</td>\n",
       "      <td>4</td>\n",
       "      <td>tm127384</td>\n",
       "      <td>Monty Python and the Holy Grail</td>\n",
       "      <td>MOVIE</td>\n",
       "      <td>1975</td>\n",
       "      <td>PG</td>\n",
       "      <td>91</td>\n",
       "      <td>['fantasy', 'comedy']</td>\n",
       "      <td>...</td>\n",
       "      <td>Terry Gilliam, Terry Jones</td>\n",
       "      <td>United Kingdom</td>\n",
       "      <td>2019-01-02</td>\n",
       "      <td>PG</td>\n",
       "      <td>92 min</td>\n",
       "      <td>2019.0</td>\n",
       "      <td>1.0</td>\n",
       "      <td>2.0</td>\n",
       "      <td>EXCELLENT</td>\n",
       "      <td>VERY OLD</td>\n",
       "    </tr>\n",
       "    <tr>\n",
       "      <th>4</th>\n",
       "      <td>5</td>\n",
       "      <td>5</td>\n",
       "      <td>5</td>\n",
       "      <td>ts22164</td>\n",
       "      <td>Monty Python's Flying Circus</td>\n",
       "      <td>SHOW</td>\n",
       "      <td>1969</td>\n",
       "      <td>TV-14</td>\n",
       "      <td>30</td>\n",
       "      <td>['comedy', 'european']</td>\n",
       "      <td>...</td>\n",
       "      <td>NaN</td>\n",
       "      <td>United Kingdom</td>\n",
       "      <td>2018-10-02</td>\n",
       "      <td>TV-14</td>\n",
       "      <td>4 Seasons</td>\n",
       "      <td>2018.0</td>\n",
       "      <td>10.0</td>\n",
       "      <td>2.0</td>\n",
       "      <td>EXCELLENT</td>\n",
       "      <td>VERY OLD</td>\n",
       "    </tr>\n",
       "  </tbody>\n",
       "</table>\n",
       "<p>5 rows × 27 columns</p>\n",
       "</div>"
      ],
      "text/plain": [
       "   Unnamed: 0.2  Unnamed: 0.1  Unnamed: 0        id  \\\n",
       "0             1             1           1   tm82169   \n",
       "1             2             2           2   tm17823   \n",
       "2             3             3           3   tm69975   \n",
       "3             4             4           4  tm127384   \n",
       "4             5             5           5   ts22164   \n",
       "\n",
       "                             title   type  release_year age_certification  \\\n",
       "0                            Rocky  MOVIE          1976                PG   \n",
       "1                           Grease  MOVIE          1978                PG   \n",
       "2                         Rocky II  MOVIE          1979                PG   \n",
       "3  Monty Python and the Holy Grail  MOVIE          1975                PG   \n",
       "4     Monty Python's Flying Circus   SHOW          1969             TV-14   \n",
       "\n",
       "   runtime                  genres  ...                    director  \\\n",
       "0      119      ['drama', 'sport']  ...            John G. Avildsen   \n",
       "1      110   ['comedy', 'romance']  ...              Randal Kleiser   \n",
       "2      119      ['drama', 'sport']  ...          Sylvester Stallone   \n",
       "3       91   ['fantasy', 'comedy']  ...  Terry Gilliam, Terry Jones   \n",
       "4       30  ['comedy', 'european']  ...                         NaN   \n",
       "\n",
       "          country  date_added  rating   duration    year  month  day  \\\n",
       "0   United States  2019-08-01      PG    120 min  2019.0    8.0  1.0   \n",
       "1   United States  2019-11-01      PG    110 min  2019.0   11.0  1.0   \n",
       "2   United States  2019-08-01      PG    119 min  2019.0    8.0  1.0   \n",
       "3  United Kingdom  2019-01-02      PG     92 min  2019.0    1.0  2.0   \n",
       "4  United Kingdom  2018-10-02   TV-14  4 Seasons  2018.0   10.0  2.0   \n",
       "\n",
       "  imdb_score_quant release_year_quant  \n",
       "0        EXCELLENT           VERY OLD  \n",
       "1        VERY GOOD           VERY OLD  \n",
       "2        VERY GOOD           VERY OLD  \n",
       "3        EXCELLENT           VERY OLD  \n",
       "4        EXCELLENT           VERY OLD  \n",
       "\n",
       "[5 rows x 27 columns]"
      ]
     },
     "execution_count": 3,
     "metadata": {},
     "output_type": "execute_result"
    }
   ],
   "source": [
    "integrate_titles.head()"
   ]
  },
  {
   "cell_type": "code",
   "execution_count": 4,
   "metadata": {
    "id": "yoJXIEgHFyVc",
    "tags": []
   },
   "outputs": [
    {
     "name": "stdout",
     "output_type": "stream",
     "text": [
      "<class 'pandas.core.frame.DataFrame'>\n",
      "RangeIndex: 4170 entries, 0 to 4169\n",
      "Data columns (total 27 columns):\n",
      " #   Column                Non-Null Count  Dtype  \n",
      "---  ------                --------------  -----  \n",
      " 0   Unnamed: 0.2          4170 non-null   int64  \n",
      " 1   Unnamed: 0.1          4170 non-null   int64  \n",
      " 2   Unnamed: 0            4170 non-null   int64  \n",
      " 3   id                    4170 non-null   object \n",
      " 4   title                 4170 non-null   object \n",
      " 5   type                  4170 non-null   object \n",
      " 6   release_year          4170 non-null   int64  \n",
      " 7   age_certification     2593 non-null   object \n",
      " 8   runtime               4170 non-null   int64  \n",
      " 9   genres                4170 non-null   object \n",
      " 10  production_countries  4170 non-null   object \n",
      " 11  seasons               1588 non-null   float64\n",
      " 12  imdb_id               4170 non-null   object \n",
      " 13  imdb_score            4170 non-null   float64\n",
      " 14  imdb_votes            4165 non-null   float64\n",
      " 15  tmdb_popularity       4139 non-null   float64\n",
      " 16  tmdb_score            4068 non-null   float64\n",
      " 17  director              2634 non-null   object \n",
      " 18  country               3790 non-null   object \n",
      " 19  date_added            4169 non-null   object \n",
      " 20  rating                4168 non-null   object \n",
      " 21  duration              4169 non-null   object \n",
      " 22  year                  4169 non-null   float64\n",
      " 23  month                 4169 non-null   float64\n",
      " 24  day                   4169 non-null   float64\n",
      " 25  imdb_score_quant      4170 non-null   object \n",
      " 26  release_year_quant    4170 non-null   object \n",
      "dtypes: float64(8), int64(5), object(14)\n",
      "memory usage: 879.7+ KB\n"
     ]
    }
   ],
   "source": [
    "integrate_titles.info()"
   ]
  },
  {
   "cell_type": "markdown",
   "metadata": {
    "id": "fX7iVZLwdlEd"
   },
   "source": [
    "**Parte 1. Usiamo la visualizzazione per farci delle idee**\n",
    "\n",
    "Visualizziamo i valori di imdb_score, separati per type, utilizzando dei box plot. "
   ]
  },
  {
   "cell_type": "markdown",
   "metadata": {
    "id": "2qWOdyij8uED"
   },
   "source": [
    "prima di tutto verifichiamo che non ci siano valori nulli, come fatto la scorsa volta, eliminando eventualmente le righe in cui imdb_score è nullo."
   ]
  },
  {
   "cell_type": "code",
   "execution_count": 5,
   "metadata": {
    "id": "7CN1mqp58wOy",
    "tags": []
   },
   "outputs": [
    {
     "name": "stdout",
     "output_type": "stream",
     "text": [
      "numero di Valori Null di imdb_score:  0\n"
     ]
    }
   ],
   "source": [
    "null_values = integrate_titles['imdb_score'].isnull().sum()\n",
    "print(\"numero di Valori Null di imdb_score: \", null_values)"
   ]
  },
  {
   "cell_type": "markdown",
   "metadata": {
    "id": "M4Ra52Xm-H7U"
   },
   "source": [
    "stessa cosa per tmdb"
   ]
  },
  {
   "cell_type": "code",
   "execution_count": 6,
   "metadata": {
    "id": "gBJulvEd-L5u",
    "tags": []
   },
   "outputs": [
    {
     "name": "stdout",
     "output_type": "stream",
     "text": [
      "numero di Valori Null di tmdb_score:  102\n",
      "numero di Valori Null di tmdb_score dopo dropna:  0\n"
     ]
    }
   ],
   "source": [
    "null_values = integrate_titles['tmdb_score'].isnull().sum()\n",
    "print(\"numero di Valori Null di tmdb_score: \", null_values)\n",
    "integrate_titles = integrate_titles.dropna(axis=0, subset=['tmdb_score'])\n",
    "null_values = integrate_titles['tmdb_score'].isnull().sum()\n",
    "print(\"numero di Valori Null di tmdb_score dopo dropna: \", null_values)"
   ]
  },
  {
   "cell_type": "markdown",
   "metadata": {
    "id": "kPGE7Qf--V2x"
   },
   "source": [
    "visualizziamo quindi, quanto richiesto (ricordiamo che la funzione da utilizzare è boxplot di pandas con column e by per il raggruppamento). "
   ]
  },
  {
   "cell_type": "code",
   "execution_count": 7,
   "metadata": {
    "id": "Jl7WtQxZd117",
    "tags": []
   },
   "outputs": [
    {
     "data": {
      "text/plain": [
       "<Axes: title={'center': 'imdb_score'}, xlabel='type'>"
      ]
     },
     "execution_count": 7,
     "metadata": {},
     "output_type": "execute_result"
    },
    {
     "data": {
      "image/png": "[encoded data removed]",
      "text/plain": [
       "<Figure size 640x480 with 1 Axes>"
      ]
     },
     "metadata": {},
     "output_type": "display_data"
    }
   ],
   "source": [
    "integrate_titles.boxplot(column='imdb_score', by='type')"
   ]
  },
  {
   "cell_type": "markdown",
   "metadata": {
    "id": "-rr-jCzRfuPZ"
   },
   "source": [
    "sembrerebbe che i due box plots si sovrappongano, ma che, in generale, la mediana della valutazione per le serie sia maggiore rispetto ai movie. \n",
    "Ripetiamo ora la stessa cosa per tmdb_score"
   ]
  },
  {
   "cell_type": "code",
   "execution_count": 8,
   "metadata": {
    "id": "7kZ_Ham3fyzz",
    "tags": []
   },
   "outputs": [
    {
     "data": {
      "text/plain": [
       "<Axes: title={'center': 'tmdb_score'}, xlabel='type'>"
      ]
     },
     "execution_count": 8,
     "metadata": {},
     "output_type": "execute_result"
    },
    {
     "data": {
      "image/png": "[encoded data removed]",
      "text/plain": [
       "<Figure size 640x480 with 1 Axes>"
      ]
     },
     "metadata": {},
     "output_type": "display_data"
    }
   ],
   "source": [
    "integrate_titles.boxplot(column='tmdb_score', by='type')"
   ]
  },
  {
   "cell_type": "markdown",
   "metadata": {
    "id": "MszaocPVFhut"
   },
   "source": [
    "troviamo un andamento simile per il tmdb_score. \n",
    "A questo punto ci chiediamo, questa differenza è statisticamente significativa? come possiamo fare per dimostrarlo?\n",
    "\n",
    "Possiamo utilizzare un test statistico. Proviamo con un t-test. \n",
    "\n",
    "Sappiamo che si devono verificare alcune ipotesi:\n",
    "1. Campione con numero di elementi n > 30;\n",
    "2. Popolazione N almeno dieci volte superiore al campione N > 10*n.\n",
    "\n",
    "Prima di tutto, stampiamo il numero di elementi per le due classi (SHOW e MOVIE)"
   ]
  },
  {
   "cell_type": "code",
   "execution_count": 9,
   "metadata": {
    "id": "Y397WccJFsp7",
    "tags": []
   },
   "outputs": [
    {
     "name": "stdout",
     "output_type": "stream",
     "text": [
      "type\n",
      "MOVIE    2525\n",
      "SHOW     1543\n",
      "Name: count, dtype: int64\n"
     ]
    }
   ],
   "source": [
    "conteggio_tipi = integrate_titles['type'].value_counts()\n",
    "print(conteggio_tipi)"
   ]
  },
  {
   "cell_type": "markdown",
   "metadata": {
    "id": "fZSn22LOJBST"
   },
   "source": [
    "le ipotesi sono verificate, quindi possiamo applicare un t-test.\n",
    "\n",
    "Scegliamo un livello di significatività di 0.05 (intervallo di confidenza di 0.95). \n",
    "\n",
    "ipotesi nulla \n",
    "\n",
    "H0 = le media di imdb_score di SHOW e MOVIE non sono statisticamente diverse;\n",
    "\n",
    "ipotesi alternativa\n",
    "\n",
    "HA = le medie sono diverse.\n",
    "\n",
    "\n",
    "significatività = 0.05"
   ]
  },
  {
   "cell_type": "code",
   "execution_count": 10,
   "metadata": {
    "id": "rqw8cxljJF7K",
    "tags": []
   },
   "outputs": [
    {
     "name": "stdout",
     "output_type": "stream",
     "text": [
      "Statistiche del t-test -5.907886449891345\n",
      "p value: 1.4899028785437671e-08\n"
     ]
    }
   ],
   "source": [
    "#campioniamo i dati\n",
    "strato_movie = integrate_titles[integrate_titles['type']=='MOVIE']\n",
    "strato_show = integrate_titles[integrate_titles['type']=='SHOW']\n",
    "campione_movie = strato_movie.sample(n=100) # 100 è sia > 30 e 100 * 10 è < 2525\n",
    "campione_show = strato_show.sample(n=100) # 100 è sia > 30 e 100 * 10 è < 1543\n",
    "campione_totale = pd.concat([campione_movie, campione_show])\n",
    "#estraiamo i punteggi imdb\n",
    "imdb_score_movie = campione_totale[campione_totale['type'] == 'MOVIE']['imdb_score']\n",
    "imdb_score_show = campione_totale[campione_totale['type'] == 'SHOW']['imdb_score']\n",
    "\n",
    "#importiamo ttest_ind per fare il t-test\n",
    "from scipy.stats import ttest_ind\n",
    "\n",
    "\n",
    "#eseguiamo il t-test usando il campione che riteniamo sia rappresentativo\n",
    "t_stat, p_value = ttest_ind(imdb_score_movie, imdb_score_show)\n",
    "#stampiamo il risultato\n",
    "print(\"Statistiche del t-test\",t_stat)\n",
    "print(\"p value:\", p_value)"
   ]
  },
  {
   "cell_type": "markdown",
   "metadata": {
    "id": "6zFacPrKJzh1"
   },
   "source": [
    "che cosa deduciamo da questo?"
   ]
  },
  {
   "cell_type": "markdown",
   "metadata": {
    "id": "zWLi5UaUN6hR"
   },
   "source": [
    "siccome il p-value << significatività; deduciamo che possiamo rigettare l'ipotesi nulla in favore di quella alternativa."
   ]
  },
  {
   "cell_type": "markdown",
   "metadata": {
    "id": "HgRYbJuVKXYt",
    "tags": []
   },
   "source": [
    "verifichiamo ora che la media dello score dei film sia più bassa rispetto a quella degli show. Dobbiamo usare il t-test ad una coda. Scegliamo un livello di significatività di 0.05 (intervallo di confidenza di 0.95). \n",
    "\n",
    "ipotesi nulla \n",
    "\n",
    "H0 = la media di imdb_score dei film è inferiore rispetto a quella degli show. \n",
    "\n",
    "ipotesi alternativa\n",
    "\n",
    "HA = la media di imdb_score dei film è maggiore o uguale rispetto a quella degli show. \n",
    "\n",
    "\n",
    "significatività = 0.05"
   ]
  },
  {
   "cell_type": "code",
   "execution_count": 11,
   "metadata": {
    "id": "z3KRDb8YKeN8",
    "tags": []
   },
   "outputs": [
    {
     "name": "stdout",
     "output_type": "stream",
     "text": [
      "Statistiche del t-test: -5.907886449891345\n",
      "Valore p: 0.9999999925504856\n"
     ]
    }
   ],
   "source": [
    "# Eseguiamo il t-test ad una coda con direzione positiva\n",
    "# (testando come ipotesi alternativa quella che media(film)>=media(show)\n",
    "t_stat, p_value = ttest_ind(imdb_score_movie, imdb_score_show, alternative='greater')\n",
    "\n",
    "print(\"Statistiche del t-test:\", t_stat)\n",
    "print(\"Valore p:\", p_value)\n"
   ]
  },
  {
   "cell_type": "markdown",
   "metadata": {
    "id": "NUA45RKlK1te"
   },
   "source": [
    "e facciamo anche un'ultima prova come sanity check, verificando l'alternativa rimasta."
   ]
  },
  {
   "cell_type": "code",
   "execution_count": 12,
   "metadata": {
    "id": "QK3sSojhK6FV",
    "tags": []
   },
   "outputs": [
    {
     "name": "stdout",
     "output_type": "stream",
     "text": [
      "Statistiche del t-test: -5.907886449891345\n",
      "p-value: 7.449514392718836e-09\n"
     ]
    }
   ],
   "source": [
    "# Eseguiamo il t-test ad una coda con direzione negativa\n",
    "t_stat, p_value = ttest_ind(imdb_score_movie, imdb_score_show, alternative='less')\n",
    "print(\"Statistiche del t-test:\", t_stat)\n",
    "print(\"p-value:\", p_value)\n",
    "\n"
   ]
  },
  {
   "cell_type": "markdown",
   "metadata": {
    "id": "Fj57wBSaK7Dp",
    "tags": []
   },
   "source": [
    "siccome il p-value è molto più piccolo di 0.05 possiamo rifiutare l'ipotesi nulla, secondo cui media(film) non è inferiore di media(show) a favore di quella alternativa, secondo cui media(film) è inferiore rispetto a media(show)"
   ]
  },
  {
   "cell_type": "markdown",
   "metadata": {
    "id": "Fj57wBSaK7Dp",
    "tags": []
   },
   "source": [
    "ripetete quanto appena fatto per lo score di tmdb (applicate l'ipotesi che ritenete più corretta, usando i box plots per avere l'idea precisa)."
   ]
  },
  {
   "cell_type": "markdown",
   "metadata": {
    "id": "fZSn22LOJBST"
   },
   "source": [
    "Scegliamo un livello di significatività di 0.05 (intervallo di confidenza di 0.95). \n",
    "\n",
    "ipotesi nulla \n",
    "\n",
    "H0 = le media di tmdb_score di SHOW e MOVIE non sono statisticamente diverse;\n",
    "\n",
    "ipotesi alternativa\n",
    "\n",
    "HA = le medie sono diverse.\n",
    "\n",
    "\n",
    "significatività = 0.05"
   ]
  },
  {
   "cell_type": "code",
   "execution_count": 13,
   "metadata": {
    "id": "ZXZowjGTK-Sm",
    "tags": []
   },
   "outputs": [
    {
     "name": "stdout",
     "output_type": "stream",
     "text": [
      "Statistiche del t-test -5.599513073687248\n",
      "p value: 7.112306355412391e-08\n"
     ]
    }
   ],
   "source": [
    "tmdb_score_movie = campione_totale[campione_totale['type'] == 'MOVIE']['tmdb_score']\n",
    "tmdb_score_show = campione_totale[campione_totale['type'] == 'SHOW']['tmdb_score']\n",
    "\n",
    "#importiamo ttest_ind per fare il t-test\n",
    "from scipy.stats import ttest_ind\n",
    "\n",
    "\n",
    "#eseguiamo il t-test usando il campione che riteniamo sia rappresentativo\n",
    "t_stat, p_value = ttest_ind(tmdb_score_movie, tmdb_score_show)\n",
    "#stampiamo il risultato\n",
    "print(\"Statistiche del t-test\",t_stat)\n",
    "print(\"p value:\", p_value)"
   ]
  },
  {
   "cell_type": "markdown",
   "metadata": {
    "id": "zWLi5UaUN6hR"
   },
   "source": [
    "siccome il p-value << significatività; deduciamo che possiamo rigettare l'ipotesi nulla in favore di quella alternativa."
   ]
  },
  {
   "cell_type": "markdown",
   "metadata": {
    "id": "HgRYbJuVKXYt",
    "tags": []
   },
   "source": [
    "verifichiamo ora che la media dello score dei film sia più bassa rispetto a quella degli show. Dobbiamo usare il t-test ad una coda. Scegliamo un livello di significatività di 0.05 (intervallo di confidenza di 0.95). \n",
    "\n",
    "ipotesi nulla \n",
    "\n",
    "H0 = la media di tmdb_score dei film è inferiore rispetto a quella degli show. \n",
    "\n",
    "ipotesi alternativa\n",
    "\n",
    "HA = la media di tmdb_score dei film è maggiore o uguale rispetto a quella degli show. \n",
    "\n",
    "\n",
    "significatività = 0.05"
   ]
  },
  {
   "cell_type": "code",
   "execution_count": 14,
   "metadata": {
    "tags": []
   },
   "outputs": [
    {
     "name": "stdout",
     "output_type": "stream",
     "text": [
      "Statistiche del t-test: -5.599513073687248\n",
      "p-value: 0.9999999644384683\n"
     ]
    }
   ],
   "source": [
    "# Eseguiamo il t-test ad una coda con direzione positiva\n",
    "# (testando come ipotesi alternativa quella che media(film)>=media(show)\n",
    "t_stat, p_value = ttest_ind(tmdb_score_movie, tmdb_score_show, alternative='greater')\n",
    "\n",
    "print(\"Statistiche del t-test:\", t_stat)\n",
    "print(\"p-value:\", p_value)\n"
   ]
  },
  {
   "cell_type": "markdown",
   "metadata": {
    "id": "NUA45RKlK1te",
    "tags": []
   },
   "source": [
    "e facciamo anche un'ultima prova come sanity check, verificando l'alternativa rimasta."
   ]
  },
  {
   "cell_type": "code",
   "execution_count": 15,
   "metadata": {
    "tags": []
   },
   "outputs": [
    {
     "name": "stdout",
     "output_type": "stream",
     "text": [
      "Statistiche del t-test: -5.599513073687248\n",
      "p-value: 3.5561531777061955e-08\n"
     ]
    }
   ],
   "source": [
    "# Eseguiamo il t-test ad una coda con direzione negativa\n",
    "t_stat, p_value = ttest_ind(tmdb_score_movie, tmdb_score_show, alternative='less')\n",
    "\n",
    "print(\"Statistiche del t-test:\", t_stat)\n",
    "print(\"p-value:\", p_value)"
   ]
  },
  {
   "cell_type": "markdown",
   "metadata": {
    "id": "QAsuGdkoK9eG"
   },
   "source": [
    "siccome il p-value è motlo più piccolo di 0.05 possiamo rifiutare l'ipotesi nulla, secondo cui media(film) non è inferiore di media(show) a favore di quella alternativa, secondo cui media(film) è inferiore rispetto a media(show)"
   ]
  },
  {
   "cell_type": "markdown",
   "metadata": {
    "id": "QAsuGdkoK9eG"
   },
   "source": [
    "adesso approfondiamo la nostra analisi, prima di tutto visualizzando lo score dei film vecchi (prima del 2010) e recenti (post 2010).\n",
    "Innanzitutto, creiamo una nuova colonna che ci dica se il film è vecchio o nuovo, secondo questa classificazione. Potremmo mettere 1 se è vecchio e 0 altrimenti. "
   ]
  },
  {
   "cell_type": "code",
   "execution_count": 16,
   "metadata": {
    "id": "pOrPc6lELizJ",
    "tags": []
   },
   "outputs": [],
   "source": [
    "# Filtra il DataFrame per i film e crea una copia indipendente\n",
    "film_df = integrate_titles[integrate_titles['type'] == 'MOVIE'].copy()\n",
    "\n",
    "# Assegna 1 ai film con release_year anteriore al 2010, altrimenti assegna 0\n",
    "film_df.loc[film_df['release_year'] < 2010, 'vecchio'] = 1\n",
    "film_df.loc[film_df['release_year'] >= 2010, 'vecchio'] = 0"
   ]
  },
  {
   "cell_type": "markdown",
   "metadata": {
    "id": "JHPeJKR0Lsm6"
   },
   "source": [
    "stampiamo il risultato (primi 50 elementi)"
   ]
  },
  {
   "cell_type": "code",
   "execution_count": 17,
   "metadata": {
    "id": "0no9_dwTLud_",
    "tags": []
   },
   "outputs": [
    {
     "data": {
      "text/html": [
       "<div>\n",
       "<style scoped>\n",
       "    .dataframe tbody tr th:only-of-type {\n",
       "        vertical-align: middle;\n",
       "    }\n",
       "\n",
       "    .dataframe tbody tr th {\n",
       "        vertical-align: top;\n",
       "    }\n",
       "\n",
       "    .dataframe thead th {\n",
       "        text-align: right;\n",
       "    }\n",
       "</style>\n",
       "<table border=\"1\" class=\"dataframe\">\n",
       "  <thead>\n",
       "    <tr style=\"text-align: right;\">\n",
       "      <th></th>\n",
       "      <th>vecchio</th>\n",
       "      <th>imdb_score</th>\n",
       "    </tr>\n",
       "  </thead>\n",
       "  <tbody>\n",
       "    <tr>\n",
       "      <th>0</th>\n",
       "      <td>1.0</td>\n",
       "      <td>8.1</td>\n",
       "    </tr>\n",
       "    <tr>\n",
       "      <th>1</th>\n",
       "      <td>1.0</td>\n",
       "      <td>7.2</td>\n",
       "    </tr>\n",
       "    <tr>\n",
       "      <th>2</th>\n",
       "      <td>1.0</td>\n",
       "      <td>7.3</td>\n",
       "    </tr>\n",
       "    <tr>\n",
       "      <th>3</th>\n",
       "      <td>1.0</td>\n",
       "      <td>8.2</td>\n",
       "    </tr>\n",
       "    <tr>\n",
       "      <th>5</th>\n",
       "      <td>1.0</td>\n",
       "      <td>7.5</td>\n",
       "    </tr>\n",
       "    <tr>\n",
       "      <th>6</th>\n",
       "      <td>1.0</td>\n",
       "      <td>7.5</td>\n",
       "    </tr>\n",
       "    <tr>\n",
       "      <th>7</th>\n",
       "      <td>1.0</td>\n",
       "      <td>8.1</td>\n",
       "    </tr>\n",
       "    <tr>\n",
       "      <th>8</th>\n",
       "      <td>1.0</td>\n",
       "      <td>4.8</td>\n",
       "    </tr>\n",
       "    <tr>\n",
       "      <th>9</th>\n",
       "      <td>1.0</td>\n",
       "      <td>6.8</td>\n",
       "    </tr>\n",
       "    <tr>\n",
       "      <th>10</th>\n",
       "      <td>1.0</td>\n",
       "      <td>6.4</td>\n",
       "    </tr>\n",
       "    <tr>\n",
       "      <th>12</th>\n",
       "      <td>1.0</td>\n",
       "      <td>6.7</td>\n",
       "    </tr>\n",
       "    <tr>\n",
       "      <th>13</th>\n",
       "      <td>1.0</td>\n",
       "      <td>6.2</td>\n",
       "    </tr>\n",
       "    <tr>\n",
       "      <th>14</th>\n",
       "      <td>1.0</td>\n",
       "      <td>6.5</td>\n",
       "    </tr>\n",
       "    <tr>\n",
       "      <th>15</th>\n",
       "      <td>1.0</td>\n",
       "      <td>6.9</td>\n",
       "    </tr>\n",
       "    <tr>\n",
       "      <th>16</th>\n",
       "      <td>1.0</td>\n",
       "      <td>5.3</td>\n",
       "    </tr>\n",
       "    <tr>\n",
       "      <th>17</th>\n",
       "      <td>1.0</td>\n",
       "      <td>6.7</td>\n",
       "    </tr>\n",
       "    <tr>\n",
       "      <th>18</th>\n",
       "      <td>1.0</td>\n",
       "      <td>7.4</td>\n",
       "    </tr>\n",
       "    <tr>\n",
       "      <th>19</th>\n",
       "      <td>1.0</td>\n",
       "      <td>5.8</td>\n",
       "    </tr>\n",
       "    <tr>\n",
       "      <th>20</th>\n",
       "      <td>1.0</td>\n",
       "      <td>8.0</td>\n",
       "    </tr>\n",
       "    <tr>\n",
       "      <th>21</th>\n",
       "      <td>0.0</td>\n",
       "      <td>6.2</td>\n",
       "    </tr>\n",
       "    <tr>\n",
       "      <th>22</th>\n",
       "      <td>1.0</td>\n",
       "      <td>7.8</td>\n",
       "    </tr>\n",
       "    <tr>\n",
       "      <th>23</th>\n",
       "      <td>1.0</td>\n",
       "      <td>5.8</td>\n",
       "    </tr>\n",
       "    <tr>\n",
       "      <th>24</th>\n",
       "      <td>1.0</td>\n",
       "      <td>6.1</td>\n",
       "    </tr>\n",
       "    <tr>\n",
       "      <th>25</th>\n",
       "      <td>1.0</td>\n",
       "      <td>7.3</td>\n",
       "    </tr>\n",
       "    <tr>\n",
       "      <th>26</th>\n",
       "      <td>1.0</td>\n",
       "      <td>6.8</td>\n",
       "    </tr>\n",
       "    <tr>\n",
       "      <th>27</th>\n",
       "      <td>1.0</td>\n",
       "      <td>6.8</td>\n",
       "    </tr>\n",
       "    <tr>\n",
       "      <th>28</th>\n",
       "      <td>1.0</td>\n",
       "      <td>5.3</td>\n",
       "    </tr>\n",
       "    <tr>\n",
       "      <th>29</th>\n",
       "      <td>1.0</td>\n",
       "      <td>6.8</td>\n",
       "    </tr>\n",
       "    <tr>\n",
       "      <th>31</th>\n",
       "      <td>1.0</td>\n",
       "      <td>6.2</td>\n",
       "    </tr>\n",
       "    <tr>\n",
       "      <th>33</th>\n",
       "      <td>1.0</td>\n",
       "      <td>5.5</td>\n",
       "    </tr>\n",
       "    <tr>\n",
       "      <th>34</th>\n",
       "      <td>1.0</td>\n",
       "      <td>6.8</td>\n",
       "    </tr>\n",
       "    <tr>\n",
       "      <th>35</th>\n",
       "      <td>1.0</td>\n",
       "      <td>8.1</td>\n",
       "    </tr>\n",
       "    <tr>\n",
       "      <th>36</th>\n",
       "      <td>1.0</td>\n",
       "      <td>6.4</td>\n",
       "    </tr>\n",
       "    <tr>\n",
       "      <th>37</th>\n",
       "      <td>1.0</td>\n",
       "      <td>7.6</td>\n",
       "    </tr>\n",
       "    <tr>\n",
       "      <th>40</th>\n",
       "      <td>1.0</td>\n",
       "      <td>6.1</td>\n",
       "    </tr>\n",
       "    <tr>\n",
       "      <th>41</th>\n",
       "      <td>1.0</td>\n",
       "      <td>7.2</td>\n",
       "    </tr>\n",
       "    <tr>\n",
       "      <th>42</th>\n",
       "      <td>1.0</td>\n",
       "      <td>7.3</td>\n",
       "    </tr>\n",
       "    <tr>\n",
       "      <th>43</th>\n",
       "      <td>1.0</td>\n",
       "      <td>7.6</td>\n",
       "    </tr>\n",
       "    <tr>\n",
       "      <th>44</th>\n",
       "      <td>1.0</td>\n",
       "      <td>7.2</td>\n",
       "    </tr>\n",
       "    <tr>\n",
       "      <th>45</th>\n",
       "      <td>1.0</td>\n",
       "      <td>6.4</td>\n",
       "    </tr>\n",
       "    <tr>\n",
       "      <th>46</th>\n",
       "      <td>1.0</td>\n",
       "      <td>1.7</td>\n",
       "    </tr>\n",
       "    <tr>\n",
       "      <th>47</th>\n",
       "      <td>1.0</td>\n",
       "      <td>6.5</td>\n",
       "    </tr>\n",
       "    <tr>\n",
       "      <th>48</th>\n",
       "      <td>1.0</td>\n",
       "      <td>5.5</td>\n",
       "    </tr>\n",
       "    <tr>\n",
       "      <th>49</th>\n",
       "      <td>1.0</td>\n",
       "      <td>6.1</td>\n",
       "    </tr>\n",
       "    <tr>\n",
       "      <th>50</th>\n",
       "      <td>1.0</td>\n",
       "      <td>6.6</td>\n",
       "    </tr>\n",
       "    <tr>\n",
       "      <th>51</th>\n",
       "      <td>1.0</td>\n",
       "      <td>5.4</td>\n",
       "    </tr>\n",
       "    <tr>\n",
       "      <th>52</th>\n",
       "      <td>1.0</td>\n",
       "      <td>6.2</td>\n",
       "    </tr>\n",
       "    <tr>\n",
       "      <th>53</th>\n",
       "      <td>1.0</td>\n",
       "      <td>5.2</td>\n",
       "    </tr>\n",
       "    <tr>\n",
       "      <th>54</th>\n",
       "      <td>1.0</td>\n",
       "      <td>6.4</td>\n",
       "    </tr>\n",
       "    <tr>\n",
       "      <th>55</th>\n",
       "      <td>1.0</td>\n",
       "      <td>7.2</td>\n",
       "    </tr>\n",
       "  </tbody>\n",
       "</table>\n",
       "</div>"
      ],
      "text/plain": [
       "    vecchio  imdb_score\n",
       "0       1.0         8.1\n",
       "1       1.0         7.2\n",
       "2       1.0         7.3\n",
       "3       1.0         8.2\n",
       "5       1.0         7.5\n",
       "6       1.0         7.5\n",
       "7       1.0         8.1\n",
       "8       1.0         4.8\n",
       "9       1.0         6.8\n",
       "10      1.0         6.4\n",
       "12      1.0         6.7\n",
       "13      1.0         6.2\n",
       "14      1.0         6.5\n",
       "15      1.0         6.9\n",
       "16      1.0         5.3\n",
       "17      1.0         6.7\n",
       "18      1.0         7.4\n",
       "19      1.0         5.8\n",
       "20      1.0         8.0\n",
       "21      0.0         6.2\n",
       "22      1.0         7.8\n",
       "23      1.0         5.8\n",
       "24      1.0         6.1\n",
       "25      1.0         7.3\n",
       "26      1.0         6.8\n",
       "27      1.0         6.8\n",
       "28      1.0         5.3\n",
       "29      1.0         6.8\n",
       "31      1.0         6.2\n",
       "33      1.0         5.5\n",
       "34      1.0         6.8\n",
       "35      1.0         8.1\n",
       "36      1.0         6.4\n",
       "37      1.0         7.6\n",
       "40      1.0         6.1\n",
       "41      1.0         7.2\n",
       "42      1.0         7.3\n",
       "43      1.0         7.6\n",
       "44      1.0         7.2\n",
       "45      1.0         6.4\n",
       "46      1.0         1.7\n",
       "47      1.0         6.5\n",
       "48      1.0         5.5\n",
       "49      1.0         6.1\n",
       "50      1.0         6.6\n",
       "51      1.0         5.4\n",
       "52      1.0         6.2\n",
       "53      1.0         5.2\n",
       "54      1.0         6.4\n",
       "55      1.0         7.2"
      ]
     },
     "execution_count": 17,
     "metadata": {},
     "output_type": "execute_result"
    }
   ],
   "source": [
    "selected = ['vecchio', 'imdb_score']\n",
    "film_df[selected].head(50)"
   ]
  },
  {
   "cell_type": "markdown",
   "metadata": {
    "id": "m6WZGqitMisi"
   },
   "source": [
    "quindi visualizziamo con box plot"
   ]
  },
  {
   "cell_type": "code",
   "execution_count": 18,
   "metadata": {
    "id": "arl9E7bHMlNc",
    "tags": []
   },
   "outputs": [
    {
     "data": {
      "text/plain": [
       "<Axes: title={'center': 'imdb_score'}, xlabel='vecchio'>"
      ]
     },
     "execution_count": 18,
     "metadata": {},
     "output_type": "execute_result"
    },
    {
     "data": {
      "image/png": "[encoded data removed]",
      "text/plain": [
       "<Figure size 640x480 with 1 Axes>"
      ]
     },
     "metadata": {},
     "output_type": "display_data"
    }
   ],
   "source": [
    "film_df.boxplot(column='imdb_score', by='vecchio')"
   ]
  },
  {
   "cell_type": "markdown",
   "metadata": {
    "id": "W78CXjB2Ms_-",
    "tags": []
   },
   "source": [
    "vi sembra che ci sia una differenza statistica tra le due classi che abbiamo creato?\n",
    "utilizziamo un t-test. Ripetiamo le verifiche necessarie, e poi eseguiamo il t-test. \n",
    "\n",
    "Scegliamo un livello di significatività di 0.05 (intervallo di confidenza di 0.95). \n",
    "\n",
    "ipotesi nulla \n",
    "\n",
    "H0 = le media di imdb_score dei film old e recenti non sono statisticamente diverse\n",
    "\n",
    "ipotesi alternativa\n",
    "\n",
    "HA = le medie sono diverse.\n",
    "\n",
    "\n",
    "significatività = 0.05"
   ]
  },
  {
   "cell_type": "code",
   "execution_count": 19,
   "metadata": {
    "id": "5ECOYoJPNEMP",
    "tags": []
   },
   "outputs": [
    {
     "name": "stdout",
     "output_type": "stream",
     "text": [
      "vecchio\n",
      "0.0    2001\n",
      "1.0     524\n",
      "Name: count, dtype: int64\n"
     ]
    }
   ],
   "source": [
    "conteggio_vecchi_non_vecchi = film_df['vecchio'].value_counts()\n",
    "print(conteggio_vecchi_non_vecchi)"
   ]
  },
  {
   "cell_type": "code",
   "execution_count": 20,
   "metadata": {
    "tags": []
   },
   "outputs": [
    {
     "name": "stdout",
     "output_type": "stream",
     "text": [
      "Statistiche del t-test -0.3110951478807474\n",
      "p value: 0.7565581817111067\n"
     ]
    }
   ],
   "source": [
    "#campioniamo i dati\n",
    "strato_vecchio = film_df[film_df['vecchio']==1]\n",
    "strato_nuovo = film_df[film_df['vecchio']==0]\n",
    "campione_vecchio = strato_vecchio.sample(n=40)\n",
    "campione_nuovo = strato_nuovo.sample(n=40)\n",
    "campione_totale = pd.concat([campione_vecchio, campione_nuovo])\n",
    "#estraiamo i punteggi imdb\n",
    "imdb_score_vecchio = campione_totale[campione_totale['vecchio'] == 1]['imdb_score']\n",
    "imdb_score_nuovo = campione_totale[campione_totale['vecchio'] == 0]['imdb_score']\n",
    "\n",
    "#importiamo ttest_ind per fare il t-test\n",
    "from scipy.stats import ttest_ind\n",
    "\n",
    "#eseguiamo il t-test usando il campione che riteniamo sia rappresentativo\n",
    "t_stat, p_value = ttest_ind(imdb_score_vecchio, imdb_score_nuovo)\n",
    "#stampiamo il risultato\n",
    "print(\"Statistiche del t-test\",t_stat)\n",
    "print(\"p value:\", p_value)\n"
   ]
  },
  {
   "cell_type": "markdown",
   "metadata": {
    "id": "4ecV_Ds9KoK-",
    "tags": []
   },
   "source": [
    "Deducete voi i risultati di questo t-test, e ditemi se vi torna il risultato. \n",
    "## mia opinione:\n",
    "siccome il p-value è maggiore della significatività (0.34>0.05) NON possiamo rigettare l'ipotesi nulla (secondo la quale le medie non sarebbero statisticamente diverse)\n"
   ]
  },
  {
   "cell_type": "markdown",
   "metadata": {
    "id": "mVcQmR2m-zNa"
   },
   "source": [
    "A questo punto, utilizziamo le colonne  quantize_imdb_score e quantize_release_year che abbiamo prodotto durante lo scorso laboratorio. \n",
    "Recuperiamo la rappresentazione OLAP, e visualizziamo il numero di MOVIE, con uno slicing, concentrandoci su quantize_imdb_score.\n"
   ]
  },
  {
   "cell_type": "code",
   "execution_count": 21,
   "metadata": {
    "id": "_H0xngkPQLOE",
    "tags": []
   },
   "outputs": [
    {
     "name": "stdout",
     "output_type": "stream",
     "text": [
      "[[[  2.   0.]\n",
      "  [ 18.   0.]\n",
      "  [ 39.   8.]\n",
      "  [179.  42.]]\n",
      "\n",
      " [[ 19.   1.]\n",
      "  [ 41.   2.]\n",
      "  [121.  29.]\n",
      "  [430. 119.]]\n",
      "\n",
      " [[ 45.   0.]\n",
      "  [ 82.  16.]\n",
      "  [165.  46.]\n",
      "  [668. 368.]]\n",
      "\n",
      " [[ 38.   0.]\n",
      "  [ 41.  20.]\n",
      "  [149.  89.]\n",
      "  [388. 493.]]\n",
      "\n",
      " [[  6.   4.]\n",
      "  [  7.  12.]\n",
      "  [ 46.  92.]\n",
      "  [ 41. 202.]]]\n"
     ]
    }
   ],
   "source": [
    "quantize_imdb_score = ['LOW','SUFFICIENT','GOOD','VERY GOOD','EXCELLENT']\n",
    "quantize_release_year = ['VERY OLD','OLD','RECENT','VERY RECENT']\n",
    "quantize_type = ['MOVIE','SHOW']\n",
    "OLAP = np.zeros((5,4,2))\n",
    "for z in range(0,len(quantize_type)):\n",
    "  Awards_prog_z = integrate_titles[integrate_titles['type']==quantize_type[z]]\n",
    "  for j in range(0,len(quantize_release_year)):\n",
    "    for i in range(0,len(quantize_imdb_score)):\n",
    "      OLAP[i,j,z] = np.sum((Awards_prog_z['imdb_score_quant'] == quantize_imdb_score[i]) &(Awards_prog_z['release_year_quant'] == quantize_release_year[j]))\n",
    "print(OLAP)    "
   ]
  },
  {
   "cell_type": "markdown",
   "metadata": {
    "id": "UKdrbtQvXRdI"
   },
   "source": [
    "facciamo un dicing, concentrandoci su MOVIE e film VERY RECENT. "
   ]
  },
  {
   "cell_type": "code",
   "execution_count": 22,
   "metadata": {
    "id": "-Berr_klXVVt",
    "tags": []
   },
   "outputs": [
    {
     "name": "stdout",
     "output_type": "stream",
     "text": [
      "[179. 430. 668. 388.  41.]\n"
     ]
    }
   ],
   "source": [
    "imdb_score_nostro = OLAP [:, quantize_release_year.index('VERY RECENT'), quantize_type.index('MOVIE')]\n",
    "print(imdb_score_nostro)"
   ]
  },
  {
   "cell_type": "markdown",
   "metadata": {
    "id": "mcAvrYyBQK0x"
   },
   "source": [
    "Analizzando l'output qua sopra scopriamo che, tra i contenuti di tipo 'MOVIE' e che consideriamo VERY RECENT, ce ne sono:\n",
    "* 39 valutati LOW\n",
    "* 121 valutati SUFFICIENT\n",
    "* 165 valutati GOOD\n",
    "* 149 valutati VERY GOOD\n",
    "* 46 valutati EXCELLENT\n",
    "\n",
    "Utilizzando altri servizi di streaming, otteniamo una versione analoga delle colonne quantizzate, relative ai soli film recenti (gli stessi del nostro dataset), di questo tipo:"
   ]
  },
  {
   "cell_type": "code",
   "execution_count": 23,
   "metadata": {
    "id": "9oe3YoD-O7VR",
    "tags": []
   },
   "outputs": [],
   "source": [
    "imdb_score_altri_servizi = [180,410,700,370,46]"
   ]
  },
  {
   "cell_type": "markdown",
   "metadata": {
    "id": "8ROvSlELXyVV"
   },
   "source": [
    "vogliamo capire se i conteggi estratti dalle due diverse sorgenti (netflix e disney+ e altre due) appartengono alla stessa distribuzione.\n",
    "Possiamo farlo applicando un test chi-quadrato.\n",
    "\n",
    "Usiamo un Chi-quadrato per l'idoneita'. Condizioni.\n",
    "\n",
    "Abbiamo almeno 5 conteggi? SI;\n",
    "Le singole osservazioni sono indipendenti e le dimensioni della popolazione devono essere pari ad almeno 10 volte quelle del campione (10n < N). Verificata, abbiamo oltre 4000 film soltanto nel dataset Netflix e Disney+."
   ]
  },
  {
   "cell_type": "code",
   "execution_count": 24,
   "metadata": {
    "id": "0S-YOnRd-372",
    "tags": []
   },
   "outputs": [
    {
     "name": "stdout",
     "output_type": "stream",
     "text": [
      "3.8631763910555\n"
     ]
    }
   ],
   "source": [
    "from scipy.stats import chisquare\n",
    "\n",
    "\n",
    "chi2_stat, p_val = chisquare(f_obs=imdb_score_nostro, f_exp=imdb_score_altri_servizi)\n",
    "\n",
    "print(chi2_stat)"
   ]
  },
  {
   "cell_type": "markdown",
   "metadata": {
    "id": "0YxFnQDPZKyS"
   },
   "source": [
    "interpretiamo i risultati del test:\n",
    "\n",
    "i gradi di libertà sono n = (numero di colonne -1) = 5 - 1 = 4.\n",
    "\n",
    "scegliamo un intervallo di confidenza di 0.95.\n",
    "\n",
    "Prendendo la tabella del chi-quadrato, notiamo che il valore critico del Chi quadrato è 9.488, quindi il valore ottenuto è < del valore critico. \n",
    "\n",
    "Deduciamo allora che non possiamo rigettare l'ipotesi nulla, secondo cui gli indici imbd_score relativi ai due servizi di streaming seguono la stessa distribuzione. \n"
   ]
  },
  {
   "cell_type": "markdown",
   "metadata": {
    "id": "HQBAKZoVVIBj"
   },
   "source": [
    "Dagli stessi servizi di streaming alternativi a Netflix e Disney plus, troviamo che i film con gradimento SUFFICIENT, hanno la seguente distribuzione in termini di anno di rilascio:"
   ]
  },
  {
   "cell_type": "code",
   "execution_count": 25,
   "metadata": {
    "id": "OE2LgSMi_CXP",
    "tags": []
   },
   "outputs": [],
   "source": [
    "release_year_altri_servizi_old_movies = [20,42,250,299]"
   ]
  },
  {
   "cell_type": "markdown",
   "metadata": {
    "id": "HQBAKZoVVIBj",
    "tags": []
   },
   "source": [
    "## interpretazione (penso): tra i film poco graditi (sufficienti):\n",
    "* 20 sono molto vecchi (VERY OLD)\n",
    "* 42 sono vecchi (OLD)\n",
    "* 250 sono recenti (RECENT)\n",
    "* 299 sono molto recenti (VERY RECENT)"
   ]
  },
  {
   "cell_type": "markdown",
   "metadata": {
    "id": "dGriMzgvWji7"
   },
   "source": [
    "verificate se i conteggi estratti dalle due sorgenti seguono la stessa distribuzione.\n",
    "\n",
    "**tip** calcoliamo prima il numero di gradi di libertà, poi confrontiamo, al solito, il p-value ottenuto con il valore estratto dalla tabella del chi-quadrato."
   ]
  },
  {
   "cell_type": "code",
   "execution_count": 26,
   "metadata": {
    "id": "6GvtdEZvWPHk",
    "tags": []
   },
   "outputs": [
    {
     "name": "stdout",
     "output_type": "stream",
     "text": [
      "La nostra osservazione dal dicing [ 19.  41. 121. 430.]\n",
      "124.03245835324097\n",
      "1.0443875410416128e-26\n"
     ]
    }
   ],
   "source": [
    "#dicing su MOVIES e SUFFICIENT IMDB_SCORE\n",
    "nostra_osservazione = OLAP [quantize_imdb_score.index('SUFFICIENT'), :, quantize_type.index('MOVIE')]\n",
    "print(\"La nostra osservazione dal dicing\", nostra_osservazione)\n",
    "\n",
    "#test chi-quadrato idoneità\n",
    "from scipy.stats import chisquare\n",
    "\n",
    "\n",
    "chi2_stat, p_val = chisquare(f_obs=nostra_osservazione, f_exp=release_year_altri_servizi_old_movies)\n",
    "\n",
    "print(chi2_stat)\n",
    "print(p_val)\n"
   ]
  },
  {
   "cell_type": "markdown",
   "metadata": {
    "id": "ZXaPICNlXQWL"
   },
   "source": [
    "commentate con le opportune conclusioni. \n",
    "## mia opinione\n",
    "siccome i gradi di libertà sono 4-1=3 e siamo a 0.05 di significatività, abbiamo un valore critico di 7,815.\n",
    "Avendo trovato un valore di chi quadro di 124 e rotti possiamo rifiutare l'ipotesi nulla, secondo cui gli indici release_year dei diversi servizi di streaming seguono la stessa distribuzione.\n"
   ]
  }
 ],
 "metadata": {
  "colab": {
   "provenance": []
  },
  "kernelspec": {
   "display_name": "Python 3 (ipykernel)",
   "language": "python",
   "name": "python3"
  },
  "language_info": {
   "codemirror_mode": {
    "name": "ipython",
    "version": 3
   },
   "file_extension": ".py",
   "mimetype": "text/x-python",
   "name": "python",
   "nbconvert_exporter": "python",
   "pygments_lexer": "ipython3",
   "version": "3.10.12"
  }
 },
 "nbformat": 4,
 "nbformat_minor": 4
}
