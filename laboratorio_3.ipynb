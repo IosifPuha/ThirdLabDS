{
  "nbformat": 4,
  "nbformat_minor": 0,
  "metadata": {
    "colab": {
      "provenance": []
    },
    "kernelspec": {
      "name": "python3",
      "display_name": "Python 3"
    },
    "language_info": {
      "name": "python"
    }
  },
  "cells": [
    {
      "cell_type": "code",
      "source": [
        "import pandas as pd \n",
        "import matplotlib.pyplot as plt \n",
        "import numpy as np\n",
        "import scipy.stats as stats"
      ],
      "metadata": {
        "id": "DG6_rz0Y_1Tx"
      },
      "execution_count": null,
      "outputs": []
    },
    {
      "cell_type": "markdown",
      "source": [
        "**Test statisici**\n",
        "\n",
        "Utilizziamo la tabella integrate_titles che abbiamo prodotto durante il primo laboratorio. Vi ricordo che abbiamo effettuato integrazione di due dataset provenienti da Disney+ e Netflix, contenenti informazioni circa film e serie tv rilasciate sulle due piattaforme di streaming. \n",
        "Il dataset integrato è stato pulito e risulta quindi pronto per ulteriori analisi. \n",
        "\n",
        "1. Importiamo il dataset:"
      ],
      "metadata": {
        "id": "QYXUP9A4_cUe"
      }
    },
    {
      "cell_type": "code",
      "execution_count": null,
      "metadata": {
        "id": "PnExuBeH_YAz"
      },
      "outputs": [],
      "source": [
        "#codice qui "
      ]
    },
    {
      "cell_type": "markdown",
      "source": [
        "visualizziamo il dataset"
      ],
      "metadata": {
        "id": "u-nCzS4SVRf3"
      }
    },
    {
      "cell_type": "code",
      "source": [
        "#codice qui "
      ],
      "metadata": {
        "id": "JNVIvuWdVS1Y"
      },
      "execution_count": null,
      "outputs": []
    },
    {
      "cell_type": "code",
      "source": [
        "#codice qui per vedere numero di elementi e informazioni sulle colonne"
      ],
      "metadata": {
        "id": "yoJXIEgHFyVc"
      },
      "execution_count": null,
      "outputs": []
    },
    {
      "cell_type": "markdown",
      "source": [
        "**Parte 1. Usiamo la visualizzazione per farci delle idee**\n",
        "\n",
        "Visualizziamo i valori di imdb_score, separati per type, utilizzando dei box plot. "
      ],
      "metadata": {
        "id": "fX7iVZLwdlEd"
      }
    },
    {
      "cell_type": "markdown",
      "source": [
        "prima di tutto verifichiamo che non ci siano valori nulli, come fatto la scorsa volta, eliminando eventualmente le righe con imbd_score è nullo."
      ],
      "metadata": {
        "id": "2qWOdyij8uED"
      }
    },
    {
      "cell_type": "code",
      "source": [
        "#codice qui "
      ],
      "metadata": {
        "id": "7CN1mqp58wOy"
      },
      "execution_count": null,
      "outputs": []
    },
    {
      "cell_type": "markdown",
      "source": [
        "stessa cosa per tmdb"
      ],
      "metadata": {
        "id": "M4Ra52Xm-H7U"
      }
    },
    {
      "cell_type": "code",
      "source": [
        "#codice qui "
      ],
      "metadata": {
        "id": "gBJulvEd-L5u"
      },
      "execution_count": null,
      "outputs": []
    },
    {
      "cell_type": "markdown",
      "source": [
        "visualizziamo quindi, quanto richiesto (ricordiamo che la funzione da utilizzare è boxplot di pandas con column e by per il raggruppamento). "
      ],
      "metadata": {
        "id": "kPGE7Qf--V2x"
      }
    },
    {
      "cell_type": "code",
      "source": [
        "#codice qui "
      ],
      "metadata": {
        "id": "Jl7WtQxZd117"
      },
      "execution_count": null,
      "outputs": []
    },
    {
      "cell_type": "markdown",
      "source": [
        "sembrerebbe che i due box plots si sovrappongano, ma che, in generale, la mediana della valutazione per le serie sia maggiore rispetto ai movie. \n",
        "Ripetiamo ora la stessa cosa per tmdb_score"
      ],
      "metadata": {
        "id": "-rr-jCzRfuPZ"
      }
    },
    {
      "cell_type": "code",
      "source": [
        "#codice qui "
      ],
      "metadata": {
        "id": "7kZ_Ham3fyzz"
      },
      "execution_count": null,
      "outputs": []
    },
    {
      "cell_type": "markdown",
      "source": [
        "troviamo un andamento simile per il tmdb_score. \n",
        "A questo punto ci chiediamo, questa differenza è statisticamente significativa? come possiamo fare per dimostrarlo?\n",
        "\n",
        "Possiamo utilizzare un test statistico. Proviamo con un t-test. \n",
        "\n",
        "Sappiamo che si devono verificare alcune ipotesi:\n",
        "1. Campione con numero di elementi n > 30;\n",
        "2. Popolazione N almeno dieci volte superiore al campione N > 10*n.\n",
        "\n",
        "Prima di tutto, stampiamo il numero di elementi per le due classi (SHOW e MOVIE)"
      ],
      "metadata": {
        "id": "MszaocPVFhut"
      }
    },
    {
      "cell_type": "code",
      "source": [
        "#codice qui "
      ],
      "metadata": {
        "id": "Y397WccJFsp7"
      },
      "execution_count": null,
      "outputs": []
    },
    {
      "cell_type": "markdown",
      "source": [
        "le ipotesi sono verificate, quindi possiamo applicare un t-test.\n",
        "\n",
        "Scegliamo un livello di significatività di 0.05 (intervallo di confidenza di 0.95). \n",
        "\n",
        "ipotesi nulla \n",
        "\n",
        "H0 = le media di imdb_score di SHOW e MOVIE non sono statisticamente diverse;\n",
        "\n",
        "ipotesi alternativa\n",
        "\n",
        "HA = le medie sono diverse.\n",
        "\n",
        "\n",
        "significatività = 0.05"
      ],
      "metadata": {
        "id": "fZSn22LOJBST"
      }
    },
    {
      "cell_type": "code",
      "source": [
        "#codice qui "
      ],
      "metadata": {
        "id": "rqw8cxljJF7K"
      },
      "execution_count": null,
      "outputs": []
    },
    {
      "cell_type": "markdown",
      "source": [
        "che cosa deduciamo da questo?"
      ],
      "metadata": {
        "id": "6zFacPrKJzh1"
      }
    },
    {
      "cell_type": "markdown",
      "source": [
        "siccome il p-value << significatività; deduciamo che possiamo rigettare l'ipotesi nulla in favore di quella alternativa."
      ],
      "metadata": {
        "id": "zWLi5UaUN6hR"
      }
    },
    {
      "cell_type": "markdown",
      "source": [
        "verifichiamo ora che la media dello score dei film sia più bassa rispetto a quella degli show. Dobbiamo usare il t-test ad una coda. Scegliamo un livello di significatività di 0.05 (intervallo di confidenza di 0.95). \n",
        "\n",
        "ipotesi nulla \n",
        "\n",
        "H0 = la media di imdb_score dei film è inferiore rispetto a quella degli show. \n",
        "\n",
        "ipotesi alternativa\n",
        "\n",
        "HA = la media di imdb_score è maggiore o uguale rispetto a quella degli show. \n",
        "\n",
        "\n",
        "significatività = 0.05"
      ],
      "metadata": {
        "id": "HgRYbJuVKXYt"
      }
    },
    {
      "cell_type": "code",
      "source": [
        "#codice qui"
      ],
      "metadata": {
        "id": "z3KRDb8YKeN8"
      },
      "execution_count": null,
      "outputs": []
    },
    {
      "cell_type": "markdown",
      "source": [
        "e facciamo anche un'ultima prova come sanity check, verificando l'alternativa rimasta."
      ],
      "metadata": {
        "id": "NUA45RKlK1te"
      }
    },
    {
      "cell_type": "code",
      "source": [
        "#codice qui "
      ],
      "metadata": {
        "id": "QK3sSojhK6FV"
      },
      "execution_count": null,
      "outputs": []
    },
    {
      "cell_type": "markdown",
      "source": [
        "ripetete quanto appena fatto per lo score di tmdb (applicate l'ipotesi che ritenete più corretta, usando i box plots per avere l'idea precisa)."
      ],
      "metadata": {
        "id": "Fj57wBSaK7Dp"
      }
    },
    {
      "cell_type": "code",
      "source": [
        "#codice qui "
      ],
      "metadata": {
        "id": "ZXZowjGTK-Sm"
      },
      "execution_count": null,
      "outputs": []
    },
    {
      "cell_type": "markdown",
      "source": [
        "adesso approfondiamo la nostra analisi, prima di tutto visualizzando lo score dei film vecchi (prima del 2010) e recenti (post 2010).\n",
        "Innanzitutto, creiamo una nuova colonna che ci dica se il film è vecchio o nuovo, secondo questa classificazione. Potremmo mettere 1 se è vecchio e 0 altrimenti. "
      ],
      "metadata": {
        "id": "QAsuGdkoK9eG"
      }
    },
    {
      "cell_type": "code",
      "source": [
        "#codice qui "
      ],
      "metadata": {
        "id": "pOrPc6lELizJ"
      },
      "execution_count": null,
      "outputs": []
    },
    {
      "cell_type": "markdown",
      "source": [
        "stampiamo il risultato (primi 50 elementi)"
      ],
      "metadata": {
        "id": "JHPeJKR0Lsm6"
      }
    },
    {
      "cell_type": "code",
      "source": [
        "#codice qui "
      ],
      "metadata": {
        "id": "0no9_dwTLud_"
      },
      "execution_count": null,
      "outputs": []
    },
    {
      "cell_type": "markdown",
      "source": [
        "quindi visualizziamo con box plot"
      ],
      "metadata": {
        "id": "m6WZGqitMisi"
      }
    },
    {
      "cell_type": "code",
      "source": [
        "#codice qui"
      ],
      "metadata": {
        "id": "arl9E7bHMlNc"
      },
      "execution_count": null,
      "outputs": []
    },
    {
      "cell_type": "markdown",
      "source": [
        "vi sembra che ci sia una differenza statistica tra le due classi che abbiamo creato?\n",
        "utilizziamo un t-test. Ripetiamo le verifiche necessarie, e poi eseguiamo il t-test. \n",
        "\n",
        "Scegliamo un livello di significatività di 0.05 (intervallo di confidenza di 0.95). \n",
        "\n",
        "ipotesi nulla \n",
        "\n",
        "H0 = le media di imdb_score dei film old e recenti non sono statisticamente diverse\n",
        "\n",
        "ipotesi alternativa\n",
        "\n",
        "HA = le medie sono diverse.\n",
        "\n",
        "\n",
        "significatività = 0.05"
      ],
      "metadata": {
        "id": "W78CXjB2Ms_-"
      }
    },
    {
      "cell_type": "code",
      "source": [
        "#codice qui"
      ],
      "metadata": {
        "id": "5ECOYoJPNEMP"
      },
      "execution_count": null,
      "outputs": []
    },
    {
      "cell_type": "markdown",
      "source": [
        "Deducete voi i risultati di questo t-test, e ditemi se vi torna il risultato. \n",
        "\n"
      ],
      "metadata": {
        "id": "4ecV_Ds9KoK-"
      }
    },
    {
      "cell_type": "markdown",
      "source": [
        "A questo punto, utilizziamo le colonne  quantize_imdb_score e quantize_release_year che abbiamo prodotto durante lo scorso laboratorio. \n",
        "Recuperiamo la rappresentazione OLAP, e visualizziamo il numero di MOVIE, con uno slicing, concentrandoci su quantize_imdb_score.\n"
      ],
      "metadata": {
        "id": "mVcQmR2m-zNa"
      }
    },
    {
      "cell_type": "code",
      "source": [
        "quantize_imdb_score = ['LOW','SUFFICIENT','GOOD','VERY GOOD','EXCELLENT']\n",
        "quantize_release_year = ['VERY OLD','OLD','RECENT','VERY RECENT']\n",
        "quantize_type = ['MOVIE','SHOW']\n",
        "OLAP = np.zeros((5,4,2))\n",
        "for z in range(0,len(quantize_type)):\n",
        "  Awards_prog_z = integrate_titles[integrate_titles['type']==quantize_type[z]]\n",
        "  for j in range(0,len(quantize_release_year)):\n",
        "    for i in range(0,len(quantize_imdb_score)):\n",
        "      OLAP[i,j,z] = np.sum((Awards_prog_z['imdb_score_quant'] == quantize_imdb_score[i]) &(Awards_prog_z['release_year_quant'] == quantize_release_year[j]))"
      ],
      "metadata": {
        "id": "_H0xngkPQLOE"
      },
      "execution_count": null,
      "outputs": []
    },
    {
      "cell_type": "markdown",
      "source": [
        "facciamo un dicing, concentrandoci su MOVIE e film RECENT. "
      ],
      "metadata": {
        "id": "UKdrbtQvXRdI"
      }
    },
    {
      "cell_type": "code",
      "source": [
        "#codice qui"
      ],
      "metadata": {
        "id": "-Berr_klXVVt"
      },
      "execution_count": null,
      "outputs": []
    },
    {
      "cell_type": "markdown",
      "source": [
        "Utilizzando altri servizi di streaming, otteniamo una versione analoga delle colonne quantizzate, relative ai soli film recenti (gli stessi del nostro dataset), di questo tipo:"
      ],
      "metadata": {
        "id": "mcAvrYyBQK0x"
      }
    },
    {
      "cell_type": "code",
      "source": [
        "imdb_score_altri_servizi = [180,410,700,370,46]"
      ],
      "metadata": {
        "id": "9oe3YoD-O7VR"
      },
      "execution_count": null,
      "outputs": []
    },
    {
      "cell_type": "markdown",
      "source": [
        "vogliamo capire se i conteggi estratti dalle due diverse sorgenti (netflix e disney+ e altre due) appartengono alla stessa distribuzione.\n",
        "Possiamo farlo applicando un test chi-quadrato.\n",
        "\n",
        "Usiamo un Chi-quadrato per l'idoneita'. Condizioni.\n",
        "\n",
        "Abbiamo almeno 5 conteggi? SI;\n",
        "Le singole osservazioni sono indipendenti e le dimensioni della popolazione devono essere pari ad almeno 10 volte quelle del campione (10n < N). Verificata, abbiamo oltre 4000 film soltanto nel dataset Netflix e Disney+."
      ],
      "metadata": {
        "id": "8ROvSlELXyVV"
      }
    },
    {
      "cell_type": "code",
      "source": [
        "#codice qui"
      ],
      "metadata": {
        "id": "0S-YOnRd-372"
      },
      "execution_count": null,
      "outputs": []
    },
    {
      "cell_type": "markdown",
      "source": [
        "interpretiamo i risultati del test:\n",
        "\n",
        "i gradi di libertà sono n = (numero di colonne -1) = 5 - 1 = 4.\n",
        "\n",
        "scegliamo un intervallo di confidenza di 0.95.\n",
        "\n",
        "Prendendo la tabella del chi-quadrato, notiamo che il valore critico del Chi quadrato è 9.488, quindi il valore ottenuto è < del valore critico. \n",
        "\n",
        "Deduciamo allora che non possiamo rigettare l'ipotesi nulla, secondo cui gli indici imbd_score relativi ai due servizi di streaming seguono la stessa distribuzione. \n"
      ],
      "metadata": {
        "id": "0YxFnQDPZKyS"
      }
    },
    {
      "cell_type": "markdown",
      "source": [
        "Dagli stessi servizi di streaming alternativi a Netflix e Disney plus, troviamo che i film con gradimento low, hanno la seguente distribuzione in termini di anno di rilascio:"
      ],
      "metadata": {
        "id": "HQBAKZoVVIBj"
      }
    },
    {
      "cell_type": "code",
      "source": [
        "\n",
        "release_year_altri_servizi_old_movies = [20,42,250,299]\n"
      ],
      "metadata": {
        "id": "OE2LgSMi_CXP"
      },
      "execution_count": null,
      "outputs": []
    },
    {
      "cell_type": "markdown",
      "source": [
        "verificate se i conteggi estratti dalle due sorgenti seguono la stessa distribuzione.\n",
        "\n",
        "**tip** calcoliamo prima il numero di gradi di libertà, poi confrontiamo, al solito, il p-value ottenuto con il valore estratto dalla tabella del chi-quadrato."
      ],
      "metadata": {
        "id": "dGriMzgvWji7"
      }
    },
    {
      "cell_type": "code",
      "source": [
        "#dicing su MOVIES e LOW IMDB_SCORE \n",
        "#test chi-quadrato idoneità\n",
        "\n"
      ],
      "metadata": {
        "id": "6GvtdEZvWPHk"
      },
      "execution_count": null,
      "outputs": []
    },
    {
      "cell_type": "markdown",
      "source": [
        "commentate con le opportune conclusioni. "
      ],
      "metadata": {
        "id": "ZXaPICNlXQWL"
      }
    }
  ]
}